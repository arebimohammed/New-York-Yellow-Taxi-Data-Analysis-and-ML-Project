version https://git-lfs.github.com/spec/v1
oid sha256:302fc56cf70e5ed00f165a662ac8500b1c99fa279148049fe1237e8127abd3a5
size 9927965
